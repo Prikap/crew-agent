{
 "cells": [
  {
   "cell_type": "code",
   "id": "initial_id",
   "metadata": {
    "collapsed": true,
    "ExecuteTime": {
     "end_time": "2025-08-06T16:56:53.851424Z",
     "start_time": "2025-08-06T16:56:53.821486Z"
    }
   },
   "source": [
    "from dotenv import load_dotenv\n",
    "load_dotenv()"
   ],
   "outputs": [
    {
     "data": {
      "text/plain": [
       "True"
      ]
     },
     "execution_count": 3,
     "metadata": {},
     "output_type": "execute_result"
    }
   ],
   "execution_count": 3
  },
  {
   "metadata": {
    "ExecuteTime": {
     "end_time": "2025-08-06T17:01:25.718573Z",
     "start_time": "2025-08-06T17:01:13.718480Z"
    }
   },
   "cell_type": "code",
   "source": [
    "from crewai import LLM\n",
    "\n",
    "llm = LLM(\n",
    "    model=\"gemini/gemini-2.5-flash\",\n",
    "    temperature=0.1\n",
    ")\n",
    "llm.call(\"best premier league club in terms of trophies\")"
   ],
   "id": "e2e251d096958489",
   "outputs": [
    {
     "data": {
      "text/plain": [
       "\"In terms of **major trophies won since the Premier League began in 1992**, the club with the most is **Manchester United**.\\n\\nHere's a breakdown of their major trophies in the Premier League era (1992-present):\\n\\n*   **Premier League Titles:** 13\\n*   **FA Cups:** 5\\n*   **League Cups (EFL Cup/Carabao Cup):** 6\\n*   **UEFA Champions League:** 2\\n*   **UEFA Europa League:** 1\\n*   **FIFA Club World Cup:** 1\\n*   **UEFA Super Cup:** 1\\n\\n**Total Major Trophies (Premier League Era): 29**\\n\\nWhile other clubs like Manchester City and Chelsea have had significant success, especially in recent years, Manchester United's sustained dominance under Sir Alex Ferguson in the early decades of the Premier League gives them a clear lead in the overall trophy count for this period.\""
      ]
     },
     "execution_count": 4,
     "metadata": {},
     "output_type": "execute_result"
    }
   ],
   "execution_count": 4
  },
  {
   "metadata": {},
   "cell_type": "code",
   "outputs": [],
   "execution_count": null,
   "source": "from crewai import agent,task,crew\n",
   "id": "c4aa55ce019acb10"
  }
 ],
 "metadata": {
  "kernelspec": {
   "display_name": "Python 3",
   "language": "python",
   "name": "python3"
  },
  "language_info": {
   "codemirror_mode": {
    "name": "ipython",
    "version": 2
   },
   "file_extension": ".py",
   "mimetype": "text/x-python",
   "name": "python",
   "nbconvert_exporter": "python",
   "pygments_lexer": "ipython2",
   "version": "2.7.6"
  }
 },
 "nbformat": 4,
 "nbformat_minor": 5
}
